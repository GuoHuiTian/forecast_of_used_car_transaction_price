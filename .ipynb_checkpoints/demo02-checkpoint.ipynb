{
 "cells": [
  {
   "cell_type": "code",
   "execution_count": null,
   "id": "05982ccc-b945-4973-9faf-5473961b2e5c",
   "metadata": {
    "tags": []
   },
   "outputs": [],
   "source": [
    "# coding: utf-8\n",
    "import numpy as np\n",
    "import pandas as pd\n",
    "import matplotlib.pyplot as plt\n",
    "\n",
    "# 设置图片可显示中文\n",
    "plt.rcParams['font.sans-serif'].insert(0, 'SimHei')\n",
    "plt.rcParams['axes.unicode_minus'] = False"
   ]
  },
  {
   "cell_type": "code",
   "execution_count": null,
   "id": "e14b4416-5101-47a9-87a2-7895b1091409",
   "metadata": {
    "tags": []
   },
   "outputs": [],
   "source": [
    "# 读取训练数据并粗略观察\n",
    "train_data = pd.read_csv('./data/used_car_train_20200313.csv', sep=' ')\n",
    "train_data.head()"
   ]
  },
  {
   "cell_type": "code",
   "execution_count": null,
   "id": "736bb287-1d5f-42c1-95b4-8cd06c3f7136",
   "metadata": {
    "tags": []
   },
   "outputs": [],
   "source": [
    "pd.set_option('display.max_columns', None)"
   ]
  },
  {
   "cell_type": "code",
   "execution_count": null,
   "id": "65a010b9-c344-46a8-b4ef-d2321d69d3cf",
   "metadata": {
    "tags": []
   },
   "outputs": [],
   "source": [
    "# 150000条\n",
    "train_data.info()"
   ]
  },
  {
   "cell_type": "markdown",
   "id": "d7eb7d13-e718-44b4-a547-df842dd364a4",
   "metadata": {},
   "source": [
    "### 数据预处理"
   ]
  },
  {
   "cell_type": "code",
   "execution_count": null,
   "id": "11db1c7b-9859-4c3a-afa8-a8daa1a3070f",
   "metadata": {
    "tags": []
   },
   "outputs": [],
   "source": [
    "# 删除有空值的行（由于数据体量足够，暂不考虑对空值进行回归模型填充）\n",
    "train_data.dropna(inplace=True)"
   ]
  },
  {
   "cell_type": "code",
   "execution_count": null,
   "id": "0f816ad4-3b79-4423-99eb-b6b1c468957a",
   "metadata": {
    "tags": []
   },
   "outputs": [],
   "source": [
    "train_data.shape\n",
    "# 删除后还有135884条"
   ]
  },
  {
   "cell_type": "code",
   "execution_count": null,
   "id": "df0f1829-47a3-4010-8e43-f3d5e3884598",
   "metadata": {
    "tags": []
   },
   "outputs": [],
   "source": [
    "# train_data.set_index('SaleID', inplace=True)\n",
    "train_data.reset_index(inplace=True)"
   ]
  },
  {
   "cell_type": "code",
   "execution_count": null,
   "id": "6e29bbfb-d46e-4004-bea8-f78d245de0ae",
   "metadata": {
    "tags": []
   },
   "outputs": [],
   "source": [
    "# 日期类型数据处理，提取年月日\n",
    "train_data['regDate_year'] = train_data['regDate'].astype('str').apply(lambda x: int(x[0:4]))\n",
    "train_data['regDate_month'] = train_data['regDate'].astype('str').apply(lambda x: int(x[4:6]))\n",
    "train_data['regDate_day'] = train_data['regDate'].astype('str').apply(lambda x: int(x[6:]))\n",
    "\n",
    "train_data['creatDate_year'] = train_data['creatDate'].astype('str').apply(lambda x: int(x[0:4]))\n",
    "train_data['creatDate_month'] = train_data['creatDate'].astype('str').apply(lambda x: int(x[4:6]))\n",
    "train_data['creatDate_day'] = train_data['creatDate'].astype('str').apply(lambda x: int(x[6:]))\n",
    "\n",
    "train_data"
   ]
  },
  {
   "cell_type": "code",
   "execution_count": null,
   "id": "23906424-e1a4-46e5-ae74-e21031629167",
   "metadata": {
    "tags": []
   },
   "outputs": [],
   "source": [
    "train_data.notRepairedDamage.unique()"
   ]
  },
  {
   "cell_type": "code",
   "execution_count": null,
   "id": "c87d0e45-1d66-43f0-8ece-44e781fffaec",
   "metadata": {
    "tags": []
   },
   "outputs": [],
   "source": [
    "# notRepairedDamage字段有-也属于空值，替换为空值后进行删除\n",
    "train_data.notRepairedDamage.replace('-', np.nan, inplace=True)"
   ]
  },
  {
   "cell_type": "code",
   "execution_count": null,
   "id": "e147a244-4ef4-4c41-9a0d-a158ab74b27d",
   "metadata": {
    "tags": []
   },
   "outputs": [],
   "source": [
    "train_data.dropna(inplace=True)"
   ]
  },
  {
   "cell_type": "code",
   "execution_count": null,
   "id": "352298b4-2cbc-4436-9128-6f3dee0d6c51",
   "metadata": {
    "tags": []
   },
   "outputs": [],
   "source": [
    "train_data.notRepairedDamage.replace(['0.0','1.0'], [0, 1], inplace=True)"
   ]
  },
  {
   "cell_type": "code",
   "execution_count": null,
   "id": "b842b75d-fc58-438b-9677-1d92215051f3",
   "metadata": {
    "tags": []
   },
   "outputs": [],
   "source": [
    "train_data.info()"
   ]
  },
  {
   "cell_type": "code",
   "execution_count": null,
   "id": "9fd8bdf2-87c1-48aa-a5e5-ebcb2de5c465",
   "metadata": {
    "tags": []
   },
   "outputs": [],
   "source": [
    "feature_cols = [col for col in train_data.columns if col not in ['SaleID','price','regDate','creatDate']]\n",
    "feature_data = train_data[feature_cols]\n",
    "label_data = train_data['price']"
   ]
  },
  {
   "cell_type": "code",
   "execution_count": null,
   "id": "c05cec80-d8a8-4dc1-9e13-b5273f3ac8ef",
   "metadata": {
    "tags": []
   },
   "outputs": [],
   "source": [
    "plt.hist(label_data)\n",
    "plt.show()\n",
    "plt.close()"
   ]
  },
  {
   "cell_type": "code",
   "execution_count": null,
   "id": "c7db9a51-0438-4eac-a729-d7b86271fcb8",
   "metadata": {
    "tags": []
   },
   "outputs": [],
   "source": [
    "# %pip install sklearn lightgbm xgboost seaborn scipy IPython"
   ]
  },
  {
   "cell_type": "code",
   "execution_count": null,
   "id": "5b4c83e9-307b-427b-a122-182bca678499",
   "metadata": {
    "tags": []
   },
   "outputs": [],
   "source": [
    "import seaborn as sns\n",
    "from scipy.special import jn\n",
    "from IPython.display import display, clear_output\n",
    "from sklearn import linear_model\n",
    "from sklearn import preprocessing\n",
    "from sklearn.svm import SVR\n",
    "from sklearn.ensemble import RandomForestRegressor,GradientBoostingRegressor\n",
    " \n",
    "# 数据降维处理的\n",
    "from sklearn.decomposition import PCA,FastICA,FactorAnalysis,SparsePCA\n",
    " \n",
    "import lightgbm as lgb\n",
    "import xgboost as xgb\n",
    " \n",
    "# 参数搜索和评价的\n",
    "from sklearn.model_selection import GridSearchCV,cross_val_score,StratifiedKFold,train_test_split\n",
    "from sklearn.metrics import mean_squared_error, mean_absolute_error"
   ]
  },
  {
   "cell_type": "code",
   "execution_count": null,
   "id": "e0b89dae-246b-476e-b745-8d75681fc2c7",
   "metadata": {
    "tags": []
   },
   "outputs": [],
   "source": [
    "# xgb模型搭建\n",
    "xgb_model = xgb.XGBRegressor(\n",
    "    n_estimators=1600, \n",
    "    learning_rate=0.05, \n",
    "    gamma=0, \n",
    "    subsample=0.8,\n",
    "    colsample_bytree=0.8,\n",
    "    max_depth=12\n",
    ")"
   ]
  },
  {
   "cell_type": "code",
   "execution_count": null,
   "id": "85250c05-3620-4000-b3d3-9039d94cd575",
   "metadata": {
    "tags": []
   },
   "outputs": [],
   "source": [
    "scores_train = []\n",
    "scores = []\n",
    "\n",
    "sk = StratifiedKFold(n_splits=10, shuffle=True, random_state=0)\n",
    "for train_ind, val_ind in sk.split(feature_data, label_data):\n",
    "    \n",
    "    train_x = feature_data.iloc[train_ind].values\n",
    "    train_y = label_data.iloc[train_ind]\n",
    "    val_x = feature_data.iloc[val_ind].values\n",
    "    val_y = label_data.iloc[val_ind]\n",
    "    \n",
    "    xgb_model.fit(train_x, train_y)\n",
    "    pred_train_xgb = xgb_model.predict(train_x)\n",
    "    pred_xgb = xgb_model.predict(val_x)\n",
    "    \n",
    "    score_train = mean_absolute_error(train_y, pred_train_xgb)\n",
    "    scores_train.append(score_train)\n",
    "    score = mean_absolute_error(val_y, pred_xgb)\n",
    "    scores.append(score)\n",
    "print('Train mae:', np.mean(score_train))\n",
    "print('Val mae', np.mean(scores))"
   ]
  },
  {
   "cell_type": "code",
   "execution_count": null,
   "id": "14b2ae3c-6f22-42bc-a8ab-52f99afd9fbc",
   "metadata": {},
   "outputs": [],
   "source": [
    "# 建立xgb训练模型\n",
    "def build_model_xgb(x_train, y_train):\n",
    "    model = xgb.XGBRegressor(\n",
    "        n_estimators=1600, \n",
    "        learning_rate=0.05, \n",
    "        gamma=0, \n",
    "        subsample=0.8,\n",
    "        colsample_bytree=0.8, \n",
    "        max_depth=12\n",
    "    )\n",
    "    model.fit(x_train, y_train)\n",
    "    return model"
   ]
  },
  {
   "cell_type": "code",
   "execution_count": null,
   "id": "3c8e93a6-804e-4680-b45b-c7f042f77080",
   "metadata": {},
   "outputs": [],
   "source": [
    "# 建立lgb训练模型\n",
    "def build_model_lgb(x_train, y_train):\n",
    "    estimator = lgb.LGBMRegressor(num_leaves=127,n_estimators = 1600)\n",
    "    param_grid = {\n",
    "        'learning_rate': [0.01, 0.05, 0.1, 0.2],\n",
    "    }\n",
    "    gbm = GridSearchCV(estimator, param_grid)\n",
    "    gbm.fit(x_train, y_train)\n",
    "    return gbm"
   ]
  },
  {
   "cell_type": "code",
   "execution_count": null,
   "id": "04fe4824-2cb0-4d64-a92b-6a9a3d69d2e9",
   "metadata": {},
   "outputs": [],
   "source": [
    "x_train, x_val, y_train, y_val = train_test_split(feature_data, label_data, test_size = 0.2)"
   ]
  },
  {
   "cell_type": "code",
   "execution_count": null,
   "id": "162da072-6bd0-4d96-9ea9-c1dea5f5a742",
   "metadata": {},
   "outputs": [],
   "source": [
    "print('Train lgb...')\n",
    "model_lgb = build_model_lgb(x_train, y_train)\n",
    "val_lgb = model_lgb.predict(x_val)\n",
    "MAE_lgb = mean_absolute_error(y_val, val_lgb)\n",
    "print('MAE of val with lgb:', MAE_lgb)"
   ]
  },
  {
   "cell_type": "code",
   "execution_count": null,
   "id": "629c3879-cc07-441f-bf27-ed27b9c4623d",
   "metadata": {},
   "outputs": [],
   "source": [
    "print('Train xgb...')\n",
    "model_xgb = build_model_xgb(x_train, y_train)\n",
    "val_xgb = model_xgb.predict(x_val)\n",
    "MAE_xgb = mean_absolute_error(y_val, val_xgb)\n",
    "print('MAE of val with xgb:', MAE_xgb)"
   ]
  },
  {
   "cell_type": "code",
   "execution_count": null,
   "id": "976de270-35c0-439d-af28-df4167294828",
   "metadata": {},
   "outputs": [],
   "source": [
    "# 这里我们采取了简单的加权融合的方式\n",
    "val_Weighted = (1 - MAE_lgb / (MAE_xgb + MAE_lgb)) * val_lgb + (1 - MAE_xgb / (MAE_xgb + MAE_lgb)) * val_xgb\n",
    "val_Weighted[val_Weighted < 0] = 10 \n",
    "print('MAE of val with Weighted ensemble:', mean_absolute_error(y_val, val_Weighted))"
   ]
  },
  {
   "cell_type": "code",
   "execution_count": null,
   "id": "fa4b0aac-5a87-4bcb-8a12-8bdad6a3aa71",
   "metadata": {},
   "outputs": [],
   "source": [
    "testb_data = pd.read_csv('./data/used_car_testB_20200421.csv', sep=' ')\n",
    "testb_data"
   ]
  },
  {
   "cell_type": "code",
   "execution_count": null,
   "id": "16f04e15-e522-41a2-94de-50940e3b4123",
   "metadata": {},
   "outputs": [],
   "source": [
    "testb_data['regDate_year'] = testb_data['regDate'].astype('str').apply(lambda x: int(x[0:4]))\n",
    "testb_data['regDate_month'] = testb_data['regDate'].astype('str').apply(lambda x: int(x[4:6]))\n",
    "testb_data['regDate_day'] = testb_data['regDate'].astype('str').apply(lambda x: int(x[6:]))\n",
    "\n",
    "testb_data['creatDate_year'] = testb_data['creatDate'].astype('str').apply(lambda x: int(x[0:4]))\n",
    "testb_data['creatDate_month'] = testb_data['creatDate'].astype('str').apply(lambda x: int(x[4:6]))\n",
    "testb_data['creatDate_day'] = testb_data['creatDate'].astype('str').apply(lambda x: int(x[6:]))\n",
    "\n",
    "testb_data"
   ]
  },
  {
   "cell_type": "code",
   "execution_count": null,
   "id": "9686e43f-2a76-41a9-a16f-79a9b3998bce",
   "metadata": {},
   "outputs": [],
   "source": [
    "testb_data.reset_index(inplace=True)"
   ]
  },
  {
   "cell_type": "code",
   "execution_count": null,
   "id": "058418d2-2792-4023-8b69-a9592ae56e19",
   "metadata": {},
   "outputs": [],
   "source": [
    "test_data = testb_data[feature_cols]"
   ]
  },
  {
   "cell_type": "code",
   "execution_count": null,
   "id": "64df3444-1b02-400d-91c5-60f6767736af",
   "metadata": {
    "tags": []
   },
   "outputs": [],
   "source": [
    "test_data = test_data.fillna(-1)"
   ]
  },
  {
   "cell_type": "code",
   "execution_count": null,
   "id": "e5175416-3d47-4e89-9c49-37bad980574b",
   "metadata": {
    "tags": []
   },
   "outputs": [],
   "source": [
    "test_data.notRepairedDamage.replace(['0.0','-','1.0'], [0, 1, 1], inplace=True)"
   ]
  },
  {
   "cell_type": "code",
   "execution_count": null,
   "id": "060d7207-a2fb-491c-94f3-e5970194a1e4",
   "metadata": {
    "tags": []
   },
   "outputs": [],
   "source": [
    "print('Predict lgb...')\n",
    "model_lgb_pre = build_model_lgb(feature_data, label_data)\n",
    "subA_lgb = model_lgb_pre.predict(test_data)\n",
    "subA_lgb"
   ]
  },
  {
   "cell_type": "code",
   "execution_count": null,
   "id": "a89baefd-06c8-4eca-9837-2d67e318759a",
   "metadata": {
    "tags": []
   },
   "outputs": [],
   "source": [
    "print('Predict xgb...')\n",
    "model_xgb_pre = build_model_xgb(feature_data, label_data)\n",
    "subA_xgb = model_xgb_pre.predict(test_data)\n",
    "subA_xgb"
   ]
  },
  {
   "cell_type": "code",
   "execution_count": null,
   "id": "2e0cdd71-796c-40ce-b1b8-5f207265d2db",
   "metadata": {
    "tags": []
   },
   "outputs": [],
   "source": [
    "scores_Weighted = (1 - MAE_lgb / (MAE_xgb + MAE_lgb)) * subA_lgb + (1 - MAE_xgb / (MAE_xgb + MAE_lgb)) * subA_xgb"
   ]
  },
  {
   "cell_type": "code",
   "execution_count": null,
   "id": "5dd4736f-b217-4b95-9e76-314da58d1953",
   "metadata": {
    "tags": []
   },
   "outputs": [],
   "source": [
    "new_test_data = pd.read_csv('./data/used_car_testB_20200421.csv', sep=' ')\n",
    "new_test_data"
   ]
  },
  {
   "cell_type": "code",
   "execution_count": null,
   "id": "420664ca-5fc0-44f0-a546-9a6c1221efdb",
   "metadata": {
    "tags": []
   },
   "outputs": [],
   "source": [
    "scores = pd.DataFrame()\n",
    "scores['SaleID'] = new_test_data.SaleID\n",
    "scores['price'] = scores_Weighted\n",
    "scores.to_csv(\"./sample_lgb_xgb.csv\", index=False)"
   ]
  },
  {
   "cell_type": "code",
   "execution_count": null,
   "id": "34fa5709-9fab-4ca1-87a4-a6c8aed9e09f",
   "metadata": {},
   "outputs": [],
   "source": []
  },
  {
   "cell_type": "code",
   "execution_count": null,
   "id": "4668c046-7770-473f-bd80-215063fc943b",
   "metadata": {},
   "outputs": [],
   "source": []
  },
  {
   "cell_type": "code",
   "execution_count": null,
   "id": "73aecce5-6d25-48b6-8d39-7dcf093776c3",
   "metadata": {},
   "outputs": [],
   "source": []
  },
  {
   "cell_type": "code",
   "execution_count": null,
   "id": "fd85fa10-1507-4a68-beb4-4281ceff4064",
   "metadata": {},
   "outputs": [],
   "source": []
  },
  {
   "cell_type": "code",
   "execution_count": null,
   "id": "174e9cc3-fab0-47e9-bdec-8a11497b397d",
   "metadata": {},
   "outputs": [],
   "source": []
  },
  {
   "cell_type": "code",
   "execution_count": null,
   "id": "ee1cf1b1-b8e4-4e72-ad59-de6dbfad8555",
   "metadata": {},
   "outputs": [],
   "source": []
  },
  {
   "cell_type": "code",
   "execution_count": null,
   "id": "f894b517-8374-4d88-959e-c2093730ab31",
   "metadata": {},
   "outputs": [],
   "source": []
  },
  {
   "cell_type": "code",
   "execution_count": null,
   "id": "3d026d9b-26f7-4813-9c40-c03cafc2f854",
   "metadata": {},
   "outputs": [],
   "source": []
  },
  {
   "cell_type": "code",
   "execution_count": null,
   "id": "020e1b11-b0a7-4b3f-b77f-53631a60ee82",
   "metadata": {},
   "outputs": [],
   "source": []
  }
 ],
 "metadata": {
  "kernelspec": {
   "display_name": "Python 3 (ipykernel)",
   "language": "python",
   "name": "python3"
  },
  "language_info": {
   "codemirror_mode": {
    "name": "ipython",
    "version": 3
   },
   "file_extension": ".py",
   "mimetype": "text/x-python",
   "name": "python",
   "nbconvert_exporter": "python",
   "pygments_lexer": "ipython3",
   "version": "3.9.12"
  }
 },
 "nbformat": 4,
 "nbformat_minor": 5
}
